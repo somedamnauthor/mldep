{
 "cells": [
  {
   "cell_type": "code",
   "execution_count": 1,
   "id": "560abb26",
   "metadata": {},
   "outputs": [],
   "source": [
    "#!wget https://azurecloudpublicdataset2.blob.core.windows.net/azurepublicdatasetv2/azurefunctions_dataset2019/azurefunctions-dataset2019.tar.xz"
   ]
  },
  {
   "cell_type": "code",
   "execution_count": 8,
   "id": "e333af58",
   "metadata": {},
   "outputs": [],
   "source": [
    "import pandas as pd\n",
    "import numpy as np"
   ]
  },
  {
   "cell_type": "code",
   "execution_count": 3,
   "id": "e5501908",
   "metadata": {},
   "outputs": [],
   "source": [
    "data = pd.read_csv('tweet_load.csv')"
   ]
  },
  {
   "cell_type": "code",
   "execution_count": 5,
   "id": "d9b552ba",
   "metadata": {},
   "outputs": [
    {
     "data": {
      "text/html": [
       "<div>\n",
       "<style scoped>\n",
       "    .dataframe tbody tr th:only-of-type {\n",
       "        vertical-align: middle;\n",
       "    }\n",
       "\n",
       "    .dataframe tbody tr th {\n",
       "        vertical-align: top;\n",
       "    }\n",
       "\n",
       "    .dataframe thead th {\n",
       "        text-align: right;\n",
       "    }\n",
       "</style>\n",
       "<table border=\"1\" class=\"dataframe\">\n",
       "  <thead>\n",
       "    <tr style=\"text-align: right;\">\n",
       "      <th></th>\n",
       "      <th>time</th>\n",
       "      <th>tweets</th>\n",
       "    </tr>\n",
       "  </thead>\n",
       "  <tbody>\n",
       "    <tr>\n",
       "      <th>0</th>\n",
       "      <td>01-01-00-00</td>\n",
       "      <td>2964.0</td>\n",
       "    </tr>\n",
       "    <tr>\n",
       "      <th>1</th>\n",
       "      <td>01-01-00-01</td>\n",
       "      <td>2593.0</td>\n",
       "    </tr>\n",
       "    <tr>\n",
       "      <th>2</th>\n",
       "      <td>01-01-00-02</td>\n",
       "      <td>2653.0</td>\n",
       "    </tr>\n",
       "    <tr>\n",
       "      <th>3</th>\n",
       "      <td>01-01-00-03</td>\n",
       "      <td>2650.0</td>\n",
       "    </tr>\n",
       "    <tr>\n",
       "      <th>4</th>\n",
       "      <td>01-01-00-04</td>\n",
       "      <td>2638.0</td>\n",
       "    </tr>\n",
       "    <tr>\n",
       "      <th>...</th>\n",
       "      <td>...</td>\n",
       "      <td>...</td>\n",
       "    </tr>\n",
       "    <tr>\n",
       "      <th>239928</th>\n",
       "      <td>06-30-23-55</td>\n",
       "      <td>2671.0</td>\n",
       "    </tr>\n",
       "    <tr>\n",
       "      <th>239929</th>\n",
       "      <td>06-30-23-56</td>\n",
       "      <td>2562.0</td>\n",
       "    </tr>\n",
       "    <tr>\n",
       "      <th>239930</th>\n",
       "      <td>06-30-23-57</td>\n",
       "      <td>2405.0</td>\n",
       "    </tr>\n",
       "    <tr>\n",
       "      <th>239931</th>\n",
       "      <td>06-30-23-58</td>\n",
       "      <td>2455.0</td>\n",
       "    </tr>\n",
       "    <tr>\n",
       "      <th>239932</th>\n",
       "      <td>06-30-23-59</td>\n",
       "      <td>2628.0</td>\n",
       "    </tr>\n",
       "  </tbody>\n",
       "</table>\n",
       "<p>239933 rows × 2 columns</p>\n",
       "</div>"
      ],
      "text/plain": [
       "               time  tweets\n",
       "0       01-01-00-00  2964.0\n",
       "1       01-01-00-01  2593.0\n",
       "2       01-01-00-02  2653.0\n",
       "3       01-01-00-03  2650.0\n",
       "4       01-01-00-04  2638.0\n",
       "...             ...     ...\n",
       "239928  06-30-23-55  2671.0\n",
       "239929  06-30-23-56  2562.0\n",
       "239930  06-30-23-57  2405.0\n",
       "239931  06-30-23-58  2455.0\n",
       "239932  06-30-23-59  2628.0\n",
       "\n",
       "[239933 rows x 2 columns]"
      ]
     },
     "execution_count": 5,
     "metadata": {},
     "output_type": "execute_result"
    }
   ],
   "source": [
    "data"
   ]
  },
  {
   "cell_type": "code",
   "execution_count": 6,
   "id": "c2febd3e",
   "metadata": {},
   "outputs": [],
   "source": [
    "data = data.drop(columns=['HashOwner', 'HashApp', 'HashFunction', 'Trigger'])\n",
    "#data"
   ]
  },
  {
   "cell_type": "code",
   "execution_count": 7,
   "id": "d530d76c",
   "metadata": {},
   "outputs": [],
   "source": [
    "f1data = data.iloc[0].tolist()\n",
    "#f1data"
   ]
  },
  {
   "cell_type": "code",
   "execution_count": 8,
   "id": "1d9ba0d2",
   "metadata": {},
   "outputs": [
    {
     "data": {
      "text/plain": [
       "[]"
      ]
     },
     "execution_count": 8,
     "metadata": {},
     "output_type": "execute_result"
    }
   ],
   "source": [
    "greater_than_one = [x for x in f1data if x > 1]\n",
    "greater_than_one"
   ]
  },
  {
   "cell_type": "code",
   "execution_count": 9,
   "id": "176dd3a8",
   "metadata": {},
   "outputs": [],
   "source": [
    "num = 2964*3\n",
    "lam = 60000/num\n",
    "samples = np.random.poisson(lam, num)\n"
   ]
  },
  {
   "cell_type": "code",
   "execution_count": 11,
   "id": "f6d374d9",
   "metadata": {},
   "outputs": [
    {
     "data": {
      "text/plain": [
       "8892"
      ]
     },
     "execution_count": 11,
     "metadata": {},
     "output_type": "execute_result"
    }
   ],
   "source": [
    "len(samples)"
   ]
  },
  {
   "cell_type": "code",
   "execution_count": 12,
   "id": "d6d8283a",
   "metadata": {},
   "outputs": [
    {
     "data": {
      "text/plain": [
       "array([ 5,  6,  3, ..., 11,  6,  7])"
      ]
     },
     "execution_count": 12,
     "metadata": {},
     "output_type": "execute_result"
    }
   ],
   "source": [
    "samples"
   ]
  }
 ],
 "metadata": {
  "kernelspec": {
   "display_name": "Python 3.8.10 64-bit",
   "language": "python",
   "name": "python3810jvsc74a57bd0916dbcbb3f70747c44a77c7bcd40155683ae19c65e1c03b4aa3499c5328201f1"
  },
  "language_info": {
   "codemirror_mode": {
    "name": "ipython",
    "version": 3
   },
   "file_extension": ".py",
   "mimetype": "text/x-python",
   "name": "python",
   "nbconvert_exporter": "python",
   "pygments_lexer": "ipython3",
   "version": "3.8.10"
  }
 },
 "nbformat": 4,
 "nbformat_minor": 5
}
