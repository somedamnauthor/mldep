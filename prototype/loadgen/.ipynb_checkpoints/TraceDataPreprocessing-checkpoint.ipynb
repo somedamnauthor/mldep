{
 "cells": [
  {
   "cell_type": "code",
   "execution_count": 1,
   "id": "560abb26",
   "metadata": {},
   "outputs": [],
   "source": [
    "#!wget https://azurecloudpublicdataset2.blob.core.windows.net/azurepublicdatasetv2/azurefunctions_dataset2019/azurefunctions-dataset2019.tar.xz"
   ]
  },
  {
   "cell_type": "code",
   "execution_count": 2,
   "id": "94af537f",
   "metadata": {},
   "outputs": [],
   "source": [
    "trace_data_dir = \"/home/srishankar/azurefunctions-dataset2019/\""
   ]
  },
  {
   "cell_type": "code",
   "execution_count": 3,
   "id": "e333af58",
   "metadata": {},
   "outputs": [],
   "source": [
    "import pandas as pd"
   ]
  },
  {
   "cell_type": "code",
   "execution_count": 4,
   "id": "0ba6d9d5",
   "metadata": {},
   "outputs": [],
   "source": [
    "file_dir = trace_data_dir + \"invocations_per_function_md.anon.d06.csv\"\n",
    "data = pd.read_csv(file_dir)"
   ]
  },
  {
   "cell_type": "code",
   "execution_count": 5,
   "id": "d9b552ba",
   "metadata": {},
   "outputs": [
    {
     "data": {
      "text/html": [
       "<div>\n",
       "<style scoped>\n",
       "    .dataframe tbody tr th:only-of-type {\n",
       "        vertical-align: middle;\n",
       "    }\n",
       "\n",
       "    .dataframe tbody tr th {\n",
       "        vertical-align: top;\n",
       "    }\n",
       "\n",
       "    .dataframe thead th {\n",
       "        text-align: right;\n",
       "    }\n",
       "</style>\n",
       "<table border=\"1\" class=\"dataframe\">\n",
       "  <thead>\n",
       "    <tr style=\"text-align: right;\">\n",
       "      <th></th>\n",
       "      <th>HashOwner</th>\n",
       "      <th>HashApp</th>\n",
       "      <th>HashFunction</th>\n",
       "      <th>Trigger</th>\n",
       "      <th>1</th>\n",
       "      <th>2</th>\n",
       "      <th>3</th>\n",
       "      <th>4</th>\n",
       "      <th>5</th>\n",
       "      <th>6</th>\n",
       "      <th>...</th>\n",
       "      <th>1431</th>\n",
       "      <th>1432</th>\n",
       "      <th>1433</th>\n",
       "      <th>1434</th>\n",
       "      <th>1435</th>\n",
       "      <th>1436</th>\n",
       "      <th>1437</th>\n",
       "      <th>1438</th>\n",
       "      <th>1439</th>\n",
       "      <th>1440</th>\n",
       "    </tr>\n",
       "  </thead>\n",
       "  <tbody>\n",
       "    <tr>\n",
       "      <th>0</th>\n",
       "      <td>71ca12c7af70d021e285b51b245942f8432df6463ff9f2...</td>\n",
       "      <td>7ca324d9fc836a5d4562811c11ce3719530ee919dd1fb9...</td>\n",
       "      <td>520dbd6bd906840012aa0c4b778743efc7c0ac7b7caf96...</td>\n",
       "      <td>http</td>\n",
       "      <td>1</td>\n",
       "      <td>0</td>\n",
       "      <td>0</td>\n",
       "      <td>0</td>\n",
       "      <td>0</td>\n",
       "      <td>1</td>\n",
       "      <td>...</td>\n",
       "      <td>0</td>\n",
       "      <td>1</td>\n",
       "      <td>0</td>\n",
       "      <td>0</td>\n",
       "      <td>0</td>\n",
       "      <td>0</td>\n",
       "      <td>1</td>\n",
       "      <td>0</td>\n",
       "      <td>0</td>\n",
       "      <td>0</td>\n",
       "    </tr>\n",
       "    <tr>\n",
       "      <th>1</th>\n",
       "      <td>71ca12c7af70d021e285b51b245942f8432df6463ff9f2...</td>\n",
       "      <td>0d0ac65651f54ae3285a59564d64e39238b516fa1d5b56...</td>\n",
       "      <td>115ca7a2b5bc290052c3da74cd0347d19c3c67b7d5aa66...</td>\n",
       "      <td>http</td>\n",
       "      <td>0</td>\n",
       "      <td>0</td>\n",
       "      <td>1</td>\n",
       "      <td>0</td>\n",
       "      <td>0</td>\n",
       "      <td>0</td>\n",
       "      <td>...</td>\n",
       "      <td>0</td>\n",
       "      <td>0</td>\n",
       "      <td>1</td>\n",
       "      <td>0</td>\n",
       "      <td>0</td>\n",
       "      <td>0</td>\n",
       "      <td>0</td>\n",
       "      <td>1</td>\n",
       "      <td>0</td>\n",
       "      <td>0</td>\n",
       "    </tr>\n",
       "  </tbody>\n",
       "</table>\n",
       "<p>2 rows × 1444 columns</p>\n",
       "</div>"
      ],
      "text/plain": [
       "                                           HashOwner  \\\n",
       "0  71ca12c7af70d021e285b51b245942f8432df6463ff9f2...   \n",
       "1  71ca12c7af70d021e285b51b245942f8432df6463ff9f2...   \n",
       "\n",
       "                                             HashApp  \\\n",
       "0  7ca324d9fc836a5d4562811c11ce3719530ee919dd1fb9...   \n",
       "1  0d0ac65651f54ae3285a59564d64e39238b516fa1d5b56...   \n",
       "\n",
       "                                        HashFunction Trigger  1  2  3  4  5  \\\n",
       "0  520dbd6bd906840012aa0c4b778743efc7c0ac7b7caf96...    http  1  0  0  0  0   \n",
       "1  115ca7a2b5bc290052c3da74cd0347d19c3c67b7d5aa66...    http  0  0  1  0  0   \n",
       "\n",
       "   6  ...  1431  1432  1433  1434  1435  1436  1437  1438  1439  1440  \n",
       "0  1  ...     0     1     0     0     0     0     1     0     0     0  \n",
       "1  0  ...     0     0     1     0     0     0     0     1     0     0  \n",
       "\n",
       "[2 rows x 1444 columns]"
      ]
     },
     "execution_count": 5,
     "metadata": {},
     "output_type": "execute_result"
    }
   ],
   "source": [
    "data.head(2)"
   ]
  },
  {
   "cell_type": "code",
   "execution_count": 6,
   "id": "c2febd3e",
   "metadata": {},
   "outputs": [],
   "source": [
    "data = data.drop(columns=['HashOwner', 'HashApp', 'HashFunction', 'Trigger'])\n",
    "#data"
   ]
  },
  {
   "cell_type": "code",
   "execution_count": 7,
   "id": "d530d76c",
   "metadata": {},
   "outputs": [],
   "source": [
    "f1data = data.iloc[0].tolist()\n",
    "#f1data"
   ]
  },
  {
   "cell_type": "code",
   "execution_count": 8,
   "id": "1d9ba0d2",
   "metadata": {},
   "outputs": [
    {
     "data": {
      "text/plain": [
       "[]"
      ]
     },
     "execution_count": 8,
     "metadata": {},
     "output_type": "execute_result"
    }
   ],
   "source": [
    "greater_than_one = [x for x in f1data if x > 1]\n",
    "greater_than_one"
   ]
  }
 ],
 "metadata": {
  "kernelspec": {
   "display_name": "Python 3.8.10 64-bit",
   "language": "python",
   "name": "python3810jvsc74a57bd0916dbcbb3f70747c44a77c7bcd40155683ae19c65e1c03b4aa3499c5328201f1"
  },
  "language_info": {
   "codemirror_mode": {
    "name": "ipython",
    "version": 3
   },
   "file_extension": ".py",
   "mimetype": "text/x-python",
   "name": "python",
   "nbconvert_exporter": "python",
   "pygments_lexer": "ipython3",
   "version": "3.8.10"
  }
 },
 "nbformat": 4,
 "nbformat_minor": 5
}
