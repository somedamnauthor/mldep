{
 "cells": [
  {
   "cell_type": "code",
   "execution_count": 11,
   "id": "5989d26a",
   "metadata": {},
   "outputs": [],
   "source": [
    "logfile = '../log_bert.csv'\n",
    "logfile = '../logs_resnet50.csv'"
   ]
  },
  {
   "cell_type": "code",
   "execution_count": 13,
   "id": "1470dfa4",
   "metadata": {},
   "outputs": [
    {
     "data": {
      "text/html": [
       "<div>\n",
       "<style scoped>\n",
       "    .dataframe tbody tr th:only-of-type {\n",
       "        vertical-align: middle;\n",
       "    }\n",
       "\n",
       "    .dataframe tbody tr th {\n",
       "        vertical-align: top;\n",
       "    }\n",
       "\n",
       "    .dataframe thead th {\n",
       "        text-align: right;\n",
       "    }\n",
       "</style>\n",
       "<table border=\"1\" class=\"dataframe\">\n",
       "  <thead>\n",
       "    <tr style=\"text-align: right;\">\n",
       "      <th></th>\n",
       "      <th>timestamp</th>\n",
       "      <th>prepro_time</th>\n",
       "      <th>predict_time</th>\n",
       "      <th>total_time</th>\n",
       "      <th>minute</th>\n",
       "    </tr>\n",
       "  </thead>\n",
       "  <tbody>\n",
       "    <tr>\n",
       "      <th>0</th>\n",
       "      <td>2023-07-28 17:04:58.562334</td>\n",
       "      <td>0.018404</td>\n",
       "      <td>0.085897</td>\n",
       "      <td>0.104301</td>\n",
       "      <td>4</td>\n",
       "    </tr>\n",
       "    <tr>\n",
       "      <th>1</th>\n",
       "      <td>2023-07-28 17:05:00.613136</td>\n",
       "      <td>0.004364</td>\n",
       "      <td>0.062470</td>\n",
       "      <td>0.066834</td>\n",
       "      <td>5</td>\n",
       "    </tr>\n",
       "    <tr>\n",
       "      <th>2</th>\n",
       "      <td>2023-07-28 17:05:02.666163</td>\n",
       "      <td>0.004401</td>\n",
       "      <td>0.064098</td>\n",
       "      <td>0.068499</td>\n",
       "      <td>5</td>\n",
       "    </tr>\n",
       "    <tr>\n",
       "      <th>3</th>\n",
       "      <td>2023-07-28 17:05:04.743652</td>\n",
       "      <td>0.004423</td>\n",
       "      <td>0.063221</td>\n",
       "      <td>0.067644</td>\n",
       "      <td>5</td>\n",
       "    </tr>\n",
       "    <tr>\n",
       "      <th>4</th>\n",
       "      <td>2023-07-28 17:05:06.887617</td>\n",
       "      <td>0.004217</td>\n",
       "      <td>0.063577</td>\n",
       "      <td>0.067794</td>\n",
       "      <td>5</td>\n",
       "    </tr>\n",
       "  </tbody>\n",
       "</table>\n",
       "</div>"
      ],
      "text/plain": [
       "                   timestamp  prepro_time  predict_time  total_time  minute\n",
       "0 2023-07-28 17:04:58.562334     0.018404      0.085897    0.104301       4\n",
       "1 2023-07-28 17:05:00.613136     0.004364      0.062470    0.066834       5\n",
       "2 2023-07-28 17:05:02.666163     0.004401      0.064098    0.068499       5\n",
       "3 2023-07-28 17:05:04.743652     0.004423      0.063221    0.067644       5\n",
       "4 2023-07-28 17:05:06.887617     0.004217      0.063577    0.067794       5"
      ]
     },
     "execution_count": 13,
     "metadata": {},
     "output_type": "execute_result"
    }
   ],
   "source": [
    "import pandas as pd\n",
    "import ast\n",
    "\n",
    "# Read the file line by line and convert each line to a list using ast.literal_eval\n",
    "data = []\n",
    "with open(logfile, 'r') as file:\n",
    "    for line in file:\n",
    "        data.append(ast.literal_eval(line))\n",
    "\n",
    "# Create a DataFrame from the list of lists with custom column names\n",
    "df = pd.DataFrame(data, columns=['prediction', 'timestamp', 'prepro_time', 'predict_time', 'total_time'])\n",
    "\n",
    "# Drop the 'prediction' column\n",
    "df.drop('prediction', axis=1, inplace=True)\n",
    "\n",
    "# Convert 'timestamp' column to datetime and extract the minute value\n",
    "df['timestamp'] = pd.to_datetime(df['timestamp'])\n",
    "df['minute'] = df['timestamp'].dt.minute\n",
    "\n",
    "# Print the DataFrame\n",
    "df.head(5)"
   ]
  },
  {
   "cell_type": "code",
   "execution_count": 15,
   "id": "cc0e5098",
   "metadata": {},
   "outputs": [],
   "source": [
    "percentiles = [0.99, 0.9, 0.5]\n",
    "response_times = df['total_time'].quantile(percentiles)"
   ]
  },
  {
   "cell_type": "raw",
   "id": "b5baba9e",
   "metadata": {},
   "source": []
  }
 ],
 "metadata": {
  "kernelspec": {
   "display_name": "Python 3.8.10 64-bit",
   "language": "python",
   "name": "python3810jvsc74a57bd0916dbcbb3f70747c44a77c7bcd40155683ae19c65e1c03b4aa3499c5328201f1"
  },
  "language_info": {
   "codemirror_mode": {
    "name": "ipython",
    "version": 3
   },
   "file_extension": ".py",
   "mimetype": "text/x-python",
   "name": "python",
   "nbconvert_exporter": "python",
   "pygments_lexer": "ipython3",
   "version": "3.8.10"
  }
 },
 "nbformat": 4,
 "nbformat_minor": 5
}
