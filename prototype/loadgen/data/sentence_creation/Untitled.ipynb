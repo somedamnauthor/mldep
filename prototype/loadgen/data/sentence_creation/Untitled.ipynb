{
 "cells": [
  {
   "cell_type": "code",
   "execution_count": 2,
   "id": "a369b0c7",
   "metadata": {},
   "outputs": [],
   "source": [
    "import pandas as pd\n",
    "import re\n",
    "import random"
   ]
  },
  {
   "cell_type": "code",
   "execution_count": 3,
   "id": "9541191e",
   "metadata": {},
   "outputs": [],
   "source": [
    "df = pd.read_csv('1000sents.csv', nrows=674)"
   ]
  },
  {
   "cell_type": "code",
   "execution_count": 4,
   "id": "37b66b24",
   "metadata": {},
   "outputs": [
    {
     "data": {
      "text/plain": [
       "Index(['ID', 'HEADWORD', 'POS', 'ENGLISH', 'JAPANESE', 'SPANISH', 'INDONESIAN',\n",
       "       'EXAMPLE (KO)', 'EXAMPLE (EN)', 'EXAMPLE (JA)', 'EXAMPLE (ES)',\n",
       "       'EXAMPLE (ID)'],\n",
       "      dtype='object')"
      ]
     },
     "execution_count": 4,
     "metadata": {},
     "output_type": "execute_result"
    }
   ],
   "source": [
    "df.columns"
   ]
  },
  {
   "cell_type": "code",
   "execution_count": 5,
   "id": "968e89c3",
   "metadata": {},
   "outputs": [],
   "source": [
    "df = df[['EXAMPLE (EN)']]"
   ]
  },
  {
   "cell_type": "code",
   "execution_count": 6,
   "id": "c2100e3f",
   "metadata": {},
   "outputs": [
    {
     "data": {
      "text/html": [
       "<div>\n",
       "<style scoped>\n",
       "    .dataframe tbody tr th:only-of-type {\n",
       "        vertical-align: middle;\n",
       "    }\n",
       "\n",
       "    .dataframe tbody tr th {\n",
       "        vertical-align: top;\n",
       "    }\n",
       "\n",
       "    .dataframe thead th {\n",
       "        text-align: right;\n",
       "    }\n",
       "</style>\n",
       "<table border=\"1\" class=\"dataframe\">\n",
       "  <thead>\n",
       "    <tr style=\"text-align: right;\">\n",
       "      <th></th>\n",
       "      <th>EXAMPLE (EN)</th>\n",
       "    </tr>\n",
       "  </thead>\n",
       "  <tbody>\n",
       "    <tr>\n",
       "      <th>0</th>\n",
       "      <td>The store opens at 10 A.M.</td>\n",
       "    </tr>\n",
       "    <tr>\n",
       "      <th>1</th>\n",
       "      <td>Do you like it? What's the price?</td>\n",
       "    </tr>\n",
       "    <tr>\n",
       "      <th>2</th>\n",
       "      <td>My house is near my school.</td>\n",
       "    </tr>\n",
       "    <tr>\n",
       "      <th>3</th>\n",
       "      <td>I sometimes drink beer.</td>\n",
       "    </tr>\n",
       "    <tr>\n",
       "      <th>4</th>\n",
       "      <td>Come tomorrow, if possible.</td>\n",
       "    </tr>\n",
       "    <tr>\n",
       "      <th>...</th>\n",
       "      <td>...</td>\n",
       "    </tr>\n",
       "    <tr>\n",
       "      <th>669</th>\n",
       "      <td>Does your brother wear glasses?</td>\n",
       "    </tr>\n",
       "    <tr>\n",
       "      <th>670</th>\n",
       "      <td>I work from 9 a.m. to 6 p.m.</td>\n",
       "    </tr>\n",
       "    <tr>\n",
       "      <th>671</th>\n",
       "      <td>Come by this afternoon.</td>\n",
       "    </tr>\n",
       "    <tr>\n",
       "      <th>672</th>\n",
       "      <td>How many flights of stairs should I go up?</td>\n",
       "    </tr>\n",
       "    <tr>\n",
       "      <th>673</th>\n",
       "      <td>I've decided to quit smoking this year.</td>\n",
       "    </tr>\n",
       "  </tbody>\n",
       "</table>\n",
       "<p>674 rows × 1 columns</p>\n",
       "</div>"
      ],
      "text/plain": [
       "                                   EXAMPLE (EN)\n",
       "0                    The store opens at 10 A.M.\n",
       "1             Do you like it? What's the price?\n",
       "2                   My house is near my school.\n",
       "3                       I sometimes drink beer.\n",
       "4                   Come tomorrow, if possible.\n",
       "..                                          ...\n",
       "669             Does your brother wear glasses?\n",
       "670                I work from 9 a.m. to 6 p.m.\n",
       "671                     Come by this afternoon.\n",
       "672  How many flights of stairs should I go up?\n",
       "673     I've decided to quit smoking this year.\n",
       "\n",
       "[674 rows x 1 columns]"
      ]
     },
     "execution_count": 6,
     "metadata": {},
     "output_type": "execute_result"
    }
   ],
   "source": [
    "df"
   ]
  },
  {
   "cell_type": "code",
   "execution_count": 7,
   "id": "5d5a7de5",
   "metadata": {},
   "outputs": [],
   "source": [
    "df.to_csv('sentences.txt', index=False, header=False)"
   ]
  },
  {
   "cell_type": "markdown",
   "id": "e1be5668",
   "metadata": {},
   "source": [
    "# Create masked sentences for context"
   ]
  },
  {
   "cell_type": "code",
   "execution_count": 56,
   "id": "a6c02ab3",
   "metadata": {},
   "outputs": [],
   "source": [
    "def mask_random_word(sentence):\n",
    "    # Split the sentence into words using regex (considering spaces and punctuations)\n",
    "#     words = re.findall(r'\\b\\w+\\b', sentence)\n",
    "    words = re.findall(r'\\b(?:[A-Za-z]\\w*)\\b', sentence)\n",
    "\n",
    "    if words:\n",
    "        # Select a random word index\n",
    "        random_index = random.randint(0, len(words) - 1)\n",
    "\n",
    "        # Replace the selected word with [MASK]\n",
    "        words[random_index] = \"[MASK]\"\n",
    "\n",
    "        # Join the words back to form the masked sentence\n",
    "        masked_sentence = \" \".join(words)\n",
    "\n",
    "        return masked_sentence\n",
    "\n",
    "    return sentence"
   ]
  },
  {
   "cell_type": "code",
   "execution_count": 57,
   "id": "32b3457b",
   "metadata": {},
   "outputs": [
    {
     "name": "stderr",
     "output_type": "stream",
     "text": [
      "/tmp/ipykernel_186989/1216340428.py:2: SettingWithCopyWarning: \n",
      "A value is trying to be set on a copy of a slice from a DataFrame.\n",
      "Try using .loc[row_indexer,col_indexer] = value instead\n",
      "\n",
      "See the caveats in the documentation: https://pandas.pydata.org/pandas-docs/stable/user_guide/indexing.html#returning-a-view-versus-a-copy\n",
      "  df['EXAMPLE (EN)'] = df['EXAMPLE (EN)'].apply(mask_random_word)\n"
     ]
    }
   ],
   "source": [
    "# Apply the mask_random_word function to the 'EXAMPLE (EN)' column\n",
    "df['EXAMPLE (EN)'] = df['EXAMPLE (EN)'].apply(mask_random_word)"
   ]
  },
  {
   "cell_type": "code",
   "execution_count": 58,
   "id": "a4dd738f",
   "metadata": {},
   "outputs": [
    {
     "data": {
      "text/html": [
       "<div>\n",
       "<style scoped>\n",
       "    .dataframe tbody tr th:only-of-type {\n",
       "        vertical-align: middle;\n",
       "    }\n",
       "\n",
       "    .dataframe tbody tr th {\n",
       "        vertical-align: top;\n",
       "    }\n",
       "\n",
       "    .dataframe thead th {\n",
       "        text-align: right;\n",
       "    }\n",
       "</style>\n",
       "<table border=\"1\" class=\"dataframe\">\n",
       "  <thead>\n",
       "    <tr style=\"text-align: right;\">\n",
       "      <th></th>\n",
       "      <th>EXAMPLE (EN)</th>\n",
       "    </tr>\n",
       "  </thead>\n",
       "  <tbody>\n",
       "    <tr>\n",
       "      <th>0</th>\n",
       "      <td>[MASK] store opens at A M</td>\n",
       "    </tr>\n",
       "    <tr>\n",
       "      <th>1</th>\n",
       "      <td>Do you like it What [MASK] the price</td>\n",
       "    </tr>\n",
       "    <tr>\n",
       "      <th>2</th>\n",
       "      <td>My [MASK] is near my school</td>\n",
       "    </tr>\n",
       "    <tr>\n",
       "      <th>3</th>\n",
       "      <td>I sometimes drink [MASK]</td>\n",
       "    </tr>\n",
       "    <tr>\n",
       "      <th>4</th>\n",
       "      <td>Come tomorrow [MASK] possible</td>\n",
       "    </tr>\n",
       "    <tr>\n",
       "      <th>...</th>\n",
       "      <td>...</td>\n",
       "    </tr>\n",
       "    <tr>\n",
       "      <th>669</th>\n",
       "      <td>[MASK] your brother wear glasses</td>\n",
       "    </tr>\n",
       "    <tr>\n",
       "      <th>670</th>\n",
       "      <td>I work from a m to p [MASK]</td>\n",
       "    </tr>\n",
       "    <tr>\n",
       "      <th>671</th>\n",
       "      <td>Come [MASK] this afternoon</td>\n",
       "    </tr>\n",
       "    <tr>\n",
       "      <th>672</th>\n",
       "      <td>How many flights of stairs should I go [MASK]</td>\n",
       "    </tr>\n",
       "    <tr>\n",
       "      <th>673</th>\n",
       "      <td>[MASK] ve decided to quit smoking this year</td>\n",
       "    </tr>\n",
       "  </tbody>\n",
       "</table>\n",
       "<p>674 rows × 1 columns</p>\n",
       "</div>"
      ],
      "text/plain": [
       "                                      EXAMPLE (EN)\n",
       "0                        [MASK] store opens at A M\n",
       "1             Do you like it What [MASK] the price\n",
       "2                      My [MASK] is near my school\n",
       "3                         I sometimes drink [MASK]\n",
       "4                    Come tomorrow [MASK] possible\n",
       "..                                             ...\n",
       "669               [MASK] your brother wear glasses\n",
       "670                    I work from a m to p [MASK]\n",
       "671                     Come [MASK] this afternoon\n",
       "672  How many flights of stairs should I go [MASK]\n",
       "673    [MASK] ve decided to quit smoking this year\n",
       "\n",
       "[674 rows x 1 columns]"
      ]
     },
     "execution_count": 58,
     "metadata": {},
     "output_type": "execute_result"
    }
   ],
   "source": [
    "df"
   ]
  },
  {
   "cell_type": "code",
   "execution_count": 59,
   "id": "c653dce9",
   "metadata": {},
   "outputs": [],
   "source": [
    "df.to_csv('masked_sentences.txt', index=False, header=False)"
   ]
  },
  {
   "cell_type": "markdown",
   "id": "d6226fcb",
   "metadata": {},
   "source": [
    "# SQuAD"
   ]
  },
  {
   "cell_type": "code",
   "execution_count": 7,
   "id": "13864b3b",
   "metadata": {},
   "outputs": [],
   "source": [
    "# !wget https://rajpurkar.github.io/SQuAD-explorer/dataset/train-v2.0.json"
   ]
  },
  {
   "cell_type": "code",
   "execution_count": 1,
   "id": "9ea5e417",
   "metadata": {},
   "outputs": [],
   "source": [
    "import json\n",
    "\n",
    "# Load the JSON file\n",
    "with open('train-v2.0.json', 'r') as json_file:\n",
    "    data = json.load(json_file)"
   ]
  },
  {
   "cell_type": "code",
   "execution_count": 2,
   "id": "2c9692d6",
   "metadata": {},
   "outputs": [],
   "source": [
    "# data\n",
    "# Extract 'question' sub-fields and store them in a list\n",
    "questions = []\n",
    "for item in data['data']:\n",
    "    for paragraph in item['paragraphs']:\n",
    "        for qa in paragraph['qas']:\n",
    "            questions.append(qa['question'])"
   ]
  },
  {
   "cell_type": "code",
   "execution_count": 3,
   "id": "1dca770e",
   "metadata": {},
   "outputs": [
    {
     "data": {
      "text/plain": [
       "130319"
      ]
     },
     "execution_count": 3,
     "metadata": {},
     "output_type": "execute_result"
    }
   ],
   "source": [
    "len(questions)"
   ]
  },
  {
   "cell_type": "code",
   "execution_count": 4,
   "id": "68e4f60e",
   "metadata": {},
   "outputs": [
    {
     "data": {
      "text/plain": [
       "['When did Beyonce start becoming popular?',\n",
       " 'What areas did Beyonce compete in when she was growing up?',\n",
       " \"When did Beyonce leave Destiny's Child and become a solo singer?\",\n",
       " 'In what city and state did Beyonce  grow up? ',\n",
       " 'In which decade did Beyonce become famous?',\n",
       " 'In what R&B group was she the lead singer?',\n",
       " 'What album made her a worldwide known artist?',\n",
       " \"Who managed the Destiny's Child group?\",\n",
       " 'When did Beyoncé rise to fame?',\n",
       " \"What role did Beyoncé have in Destiny's Child?\"]"
      ]
     },
     "execution_count": 4,
     "metadata": {},
     "output_type": "execute_result"
    }
   ],
   "source": [
    "questions[0:10]"
   ]
  },
  {
   "cell_type": "code",
   "execution_count": 8,
   "id": "639e61b6",
   "metadata": {},
   "outputs": [
    {
     "name": "stdout",
     "output_type": "stream",
     "text": [
      "Questions have been written to sentences.txt\n"
     ]
    }
   ],
   "source": [
    "# Specify the text file path\n",
    "text_file_path = 'sentences.txt'\n",
    "\n",
    "# Write the questions list to the text file\n",
    "with open(text_file_path, 'w') as text_file:\n",
    "    for question in questions:\n",
    "        text_file.write(question + '\\n')\n",
    "\n",
    "print(f'Questions have been written to {text_file_path}')"
   ]
  },
  {
   "cell_type": "markdown",
   "id": "1f139ffa",
   "metadata": {},
   "source": [
    "### Create masked sentences for context"
   ]
  },
  {
   "cell_type": "code",
   "execution_count": 14,
   "id": "f3bfb5a5",
   "metadata": {},
   "outputs": [],
   "source": [
    "import re\n",
    "import random\n",
    "\n",
    "def mask_random_word(sentence):\n",
    "    \n",
    "    words = re.findall(r'\\b(?:[A-Za-z]\\w*)\\b', sentence)\n",
    "\n",
    "    if words:\n",
    "        # Select a random word index\n",
    "        random_index = random.randint(0, len(words) - 1)\n",
    "\n",
    "        # Replace the selected word with [MASK]\n",
    "        words[random_index] = \"[MASK]\"\n",
    "\n",
    "        # Join the words back to form the masked sentence\n",
    "        masked_sentence = \" \".join(words)\n",
    "\n",
    "        return masked_sentence\n",
    "\n",
    "    return sentence"
   ]
  },
  {
   "cell_type": "code",
   "execution_count": 15,
   "id": "d5cf7748",
   "metadata": {},
   "outputs": [],
   "source": [
    "masks = [mask_random_word(question) for question in questions]"
   ]
  },
  {
   "cell_type": "code",
   "execution_count": 16,
   "id": "6586fefa",
   "metadata": {},
   "outputs": [
    {
     "data": {
      "text/plain": [
       "['[MASK] did Beyonce start becoming popular',\n",
       " 'What areas did [MASK] compete in when she was growing up',\n",
       " 'When did Beyonce leave Destiny s Child and [MASK] a solo singer',\n",
       " 'In what city and state did Beyonce grow [MASK]',\n",
       " 'In which decade did Beyonce [MASK] famous',\n",
       " 'In what R B [MASK] was she the lead singer',\n",
       " 'What album [MASK] her a worldwide known artist',\n",
       " 'Who managed the Destiny s Child [MASK]',\n",
       " '[MASK] did Beyoncé rise to fame',\n",
       " 'What [MASK] did Beyoncé have in Destiny s Child']"
      ]
     },
     "execution_count": 16,
     "metadata": {},
     "output_type": "execute_result"
    }
   ],
   "source": [
    "masks[0:10]"
   ]
  },
  {
   "cell_type": "code",
   "execution_count": 18,
   "id": "6cfecbb5",
   "metadata": {},
   "outputs": [
    {
     "name": "stdout",
     "output_type": "stream",
     "text": [
      "Sentences have been written to masked_sentences.txt\n"
     ]
    }
   ],
   "source": [
    "# Specify the text file path\n",
    "text_file_path = 'masked_sentences.txt'\n",
    "\n",
    "# Write the questions list to the text file\n",
    "with open(text_file_path, 'w') as text_file:\n",
    "    for mask_sent in masks:\n",
    "        text_file.write(mask_sent + '\\n')\n",
    "\n",
    "print(f'Sentences have been written to {text_file_path}')"
   ]
  }
 ],
 "metadata": {
  "kernelspec": {
   "display_name": "Python 3.8.10 64-bit",
   "language": "python",
   "name": "python3810jvsc74a57bd0916dbcbb3f70747c44a77c7bcd40155683ae19c65e1c03b4aa3499c5328201f1"
  },
  "language_info": {
   "codemirror_mode": {
    "name": "ipython",
    "version": 3
   },
   "file_extension": ".py",
   "mimetype": "text/x-python",
   "name": "python",
   "nbconvert_exporter": "python",
   "pygments_lexer": "ipython3",
   "version": "3.8.10"
  }
 },
 "nbformat": 4,
 "nbformat_minor": 5
}
